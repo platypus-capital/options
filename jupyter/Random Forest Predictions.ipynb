{
 "cells": [
  {
   "cell_type": "code",
   "execution_count": 1,
   "metadata": {},
   "outputs": [
    {
     "name": "stderr",
     "output_type": "stream",
     "text": [
      "/Users/jteruya/.pyenv/versions/3.8.0/lib/python3.8/site-packages/pandas/compat/__init__.py:117: UserWarning: Could not import the lzma module. Your installed Python is incomplete. Attempting to use lzma compression will result in a RuntimeError.\n",
      "  warnings.warn(msg)\n"
     ]
    }
   ],
   "source": [
    "import yfinance as yf\n",
    "import pandas as pd\n",
    "import matplotlib.pyplot as plt\n",
    "import pickle\n",
    "from datetime import datetime, timedelta\n",
    "from sklearn.model_selection import train_test_split\n",
    "from sklearn import preprocessing"
   ]
  },
  {
   "cell_type": "markdown",
   "metadata": {},
   "source": [
    "## Set the Notebook Parameters\n",
    "- Start and End Date\n",
    "- Model File Name"
   ]
  },
  {
   "cell_type": "code",
   "execution_count": 2,
   "metadata": {},
   "outputs": [],
   "source": [
    "# Start and End Dates for Ticker Data\n",
    "start_date = \"2021-03-01\"\n",
    "end_date = \"2021-03-24\"\n",
    "\n",
    "# Model File\n",
    "model_file = \"models/vix_prediction_20210307.pl\"\n",
    "#model_file = \"models/vix_prediction_20210321.pl\""
   ]
  },
  {
   "cell_type": "markdown",
   "metadata": {},
   "source": [
    "## Load the Yahoo Finance Data"
   ]
  },
  {
   "cell_type": "code",
   "execution_count": 3,
   "metadata": {},
   "outputs": [
    {
     "name": "stdout",
     "output_type": "stream",
     "text": [
      "[*********************100%***********************]  1 of 1 completed\n",
      "[*********************100%***********************]  1 of 1 completed\n",
      "[*********************100%***********************]  1 of 1 completed\n",
      "[*********************100%***********************]  1 of 1 completed\n",
      "[*********************100%***********************]  1 of 1 completed\n",
      "[*********************100%***********************]  1 of 1 completed\n",
      "[*********************100%***********************]  1 of 1 completed\n",
      "[*********************100%***********************]  1 of 1 completed\n"
     ]
    }
   ],
   "source": [
    "# Helper Function\n",
    "def download_data(ticker, start, end):\n",
    "    return yf.download(ticker, start, end)\n",
    "\n",
    "# List of Indices to Retrieve Data\n",
    "indices = [\"^VIX\", \"^GSPC\", \"^DJI\", \"^TNX\", \"DX-Y.NYB\", \"GLD\", \"TIP\", \"VNQ\"]\n",
    "# List of lists\n",
    "indices_data = [download_data(index, start_date, end_date) for index in indices]"
   ]
  },
  {
   "cell_type": "markdown",
   "metadata": {},
   "source": [
    "## Scale the Independent Values"
   ]
  },
  {
   "cell_type": "code",
   "execution_count": 4,
   "metadata": {},
   "outputs": [],
   "source": [
    "# Previous Closing\n",
    "def previous_close(df):\n",
    "    df['Previous Close'] = df['Close'].shift(1)\n",
    "    return df\n",
    "\n",
    "# Percent Movement Helper Function\n",
    "def market_movement(row):\n",
    "    return (row['Close'] - row['Previous Close'])/row['Previous Close']\n",
    "\n",
    "# Get Previous Close to Account for Futures\n",
    "indices_data_prev = [previous_close(df) for df in indices_data]\n",
    "\n",
    "# Apply helper function to all index dataframes\n",
    "percent_movement = [index.apply(market_movement, axis=1) for index in indices_data_prev]"
   ]
  },
  {
   "cell_type": "markdown",
   "metadata": {},
   "source": [
    "## Transform into a DataFrame"
   ]
  },
  {
   "cell_type": "code",
   "execution_count": 5,
   "metadata": {},
   "outputs": [
    {
     "name": "stderr",
     "output_type": "stream",
     "text": [
      "/Users/jteruya/.pyenv/versions/3.8.0/lib/python3.8/site-packages/pandas/core/generic.py:6245: SettingWithCopyWarning: \n",
      "A value is trying to be set on a copy of a slice from a DataFrame\n",
      "\n",
      "See the caveats in the documentation: https://pandas.pydata.org/pandas-docs/stable/user_guide/indexing.html#returning-a-view-versus-a-copy\n",
      "  self._update_inplace(new_data)\n"
     ]
    }
   ],
   "source": [
    "all_indices_df = pd.concat(percent_movement, axis=1)\n",
    "all_indices_df.columns = [index[1:] + \" Percent Movement\" for index in indices]\n",
    "original_columns = all_indices_df.columns\n",
    "all_indices_df['Day'] = all_indices_df.index\n",
    "\n",
    "independent_variables = ['GSPC Percent Movement', 'TNX Percent Movement', 'X-Y.NYB Percent Movement', 'LD Percent Movement', 'IP Percent Movement', 'NQ Percent Movement']\n",
    "\n",
    "X = all_indices_df[independent_variables]\n",
    "\n",
    "# Fill Non null values with mean\n",
    "X.fillna(X.mean(), inplace=True)"
   ]
  },
  {
   "cell_type": "markdown",
   "metadata": {},
   "source": [
    "## Load Model"
   ]
  },
  {
   "cell_type": "code",
   "execution_count": 6,
   "metadata": {},
   "outputs": [],
   "source": [
    "model_file_handler = open(model_file,'rb')\n",
    "model = pickle.load(model_file_handler)"
   ]
  },
  {
   "cell_type": "markdown",
   "metadata": {},
   "source": [
    "## Predict Using Model"
   ]
  },
  {
   "cell_type": "code",
   "execution_count": 7,
   "metadata": {},
   "outputs": [
    {
     "name": "stdout",
     "output_type": "stream",
     "text": [
      "2021-03-24\n",
      "No Trading Day\n",
      "\n",
      "\n",
      "2021-03-23\n",
      "[0.67176363 0.32823637]\n",
      "[0]\n",
      "\n",
      "\n",
      "2021-03-22\n",
      "[0.53119269 0.46880731]\n",
      "[0]\n",
      "\n",
      "\n",
      "2021-03-21\n",
      "No Trading Day\n",
      "\n",
      "\n",
      "2021-03-20\n",
      "No Trading Day\n",
      "\n",
      "\n",
      "2021-03-19\n",
      "[0.570442 0.429558]\n",
      "[0]\n",
      "\n",
      "\n",
      "2021-03-18\n",
      "[0.61971991 0.38028009]\n",
      "[0]\n",
      "\n",
      "\n",
      "2021-03-17\n",
      "[0.3869998 0.6130002]\n",
      "[1]\n",
      "\n",
      "\n",
      "2021-03-16\n",
      "[0.5633554 0.4366446]\n",
      "[0]\n",
      "\n",
      "\n",
      "2021-03-15\n",
      "[0.47618455 0.52381545]\n",
      "[1]\n",
      "\n",
      "\n"
     ]
    }
   ],
   "source": [
    "base = datetime.strptime(end_date, '%Y-%m-%d')\n",
    "date_list = [base - timedelta(days=x) for x in range(10)]\n",
    "\n",
    "for date in date_list:\n",
    "    date_index = date.strftime(\"%Y-%m-%d\")\n",
    "    try:\n",
    "        print(date_index)\n",
    "        print(model.predict_proba([all_indices_df.loc[date_index][independent_variables]])[0][0:2])\n",
    "        print(model.predict([all_indices_df.loc[date_index][independent_variables]]))\n",
    "    except:\n",
    "        print(\"No Trading Day\")\n",
    "        pass\n",
    "    print(\"\\n\")"
   ]
  }
 ],
 "metadata": {
  "kernelspec": {
   "display_name": "Python 3",
   "language": "python",
   "name": "python3"
  },
  "language_info": {
   "codemirror_mode": {
    "name": "ipython",
    "version": 3
   },
   "file_extension": ".py",
   "mimetype": "text/x-python",
   "name": "python",
   "nbconvert_exporter": "python",
   "pygments_lexer": "ipython3",
   "version": "3.8.0"
  }
 },
 "nbformat": 4,
 "nbformat_minor": 4
}
