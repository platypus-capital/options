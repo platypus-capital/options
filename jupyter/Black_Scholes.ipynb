{
 "cells": [
  {
   "cell_type": "code",
   "execution_count": 1,
   "metadata": {},
   "outputs": [
    {
     "name": "stderr",
     "output_type": "stream",
     "text": [
      "/Users/jteruya/.pyenv/versions/3.8.0/lib/python3.8/site-packages/pandas/compat/__init__.py:117: UserWarning: Could not import the lzma module. Your installed Python is incomplete. Attempting to use lzma compression will result in a RuntimeError.\n",
      "  warnings.warn(msg)\n"
     ]
    }
   ],
   "source": [
    "import pandas as pd\n",
    "import mibian as mb\n",
    "import yfinance as yf\n",
    "from datetime import datetime"
   ]
  },
  {
   "cell_type": "markdown",
   "metadata": {},
   "source": [
    "## Yahoo Finance Ticker Object"
   ]
  },
  {
   "cell_type": "code",
   "execution_count": 2,
   "metadata": {},
   "outputs": [],
   "source": [
    "stock_ticker = \"CCL\"\n",
    "ticker = yf.Ticker(stock_ticker)"
   ]
  },
  {
   "cell_type": "markdown",
   "metadata": {},
   "source": [
    "## Input DataFrame Helper Function"
   ]
  },
  {
   "cell_type": "code",
   "execution_count": 3,
   "metadata": {},
   "outputs": [],
   "source": [
    "# Helper Functions for Constant Fields\n",
    "def _constant_fields(df, expiration_date, interest_rate):\n",
    "    df['underlying_price'] = ticker.history(period=\"0d\").iloc[0]['Close']\n",
    "    df['interest_rate'] = interest_rate\n",
    "    df['days_to_expiration'] = (datetime.strptime(expiration_date, '%Y-%m-%d') - datetime.now()).days + 1\n",
    "\n",
    "# Generate Mibian Input DF for Call Chains\n",
    "def call_chain_input(ticker, expiration_date, interest_rate):\n",
    "    df = pd.DataFrame(ticker.option_chain(expiration_date).calls[['strike', 'lastPrice']])\n",
    "    _constant_fields(df, expiration_date, interest_rate)\n",
    "    return df\n",
    "\n",
    "# Generate Mibian Input DF for Put Chains\n",
    "def put_chain_input(ticker, expiration_date, interest_rate):\n",
    "    df = pd.DataFrame(ticker.option_chain(expiration_date).puts[['strike', 'lastPrice']])\n",
    "    _constant_fields(df, expiration_date, interest_rate)\n",
    "    return df"
   ]
  },
  {
   "cell_type": "markdown",
   "metadata": {},
   "source": [
    "## Black Scholes Assumptions"
   ]
  },
  {
   "cell_type": "code",
   "execution_count": 4,
   "metadata": {},
   "outputs": [],
   "source": [
    "## Assume volatility is 20\n",
    "vol = 20\n",
    "\n",
    "## Assume free interest rate is 3%\n",
    "interest_rate=3"
   ]
  },
  {
   "cell_type": "markdown",
   "metadata": {},
   "source": [
    "## Create Input DataFrame Across Multiple Expirations"
   ]
  },
  {
   "cell_type": "code",
   "execution_count": 5,
   "metadata": {},
   "outputs": [],
   "source": [
    "df = pd.DataFrame()\n",
    "for expiration_date in ticker.options:\n",
    "    df = df.append(call_chain_input(ticker=ticker, expiration_date=expiration_date, interest_rate=interest_rate), ignore_index=True)"
   ]
  },
  {
   "cell_type": "markdown",
   "metadata": {},
   "source": [
    "## Generate Black Scholes Objects and Values"
   ]
  },
  {
   "cell_type": "code",
   "execution_count": 6,
   "metadata": {},
   "outputs": [],
   "source": [
    "def black_scholes_vol(row, vol):\n",
    "    return mb.BS(row.tolist(), volatility=vol)\n",
    "\n",
    "df['ticker'] = stock_ticker\n",
    "df['black_scholes'] = df.apply(lambda x: black_scholes_vol(x, vol), axis=1)\n",
    "df['black_scholes_call_theta'] = df['black_scholes'].map(lambda x: x.callTheta)\n",
    "df['black_scholes_call_rho'] = df['black_scholes'].map(lambda x: x.callRho)\n",
    "df['black_scholes_vega'] = df['black_scholes'].map(lambda x: x.vega)\n",
    "df['black_scholes_gamma'] = df['black_scholes'].map(lambda x: x.gamma)"
   ]
  },
  {
   "cell_type": "markdown",
   "metadata": {},
   "source": [
    "## Preview Output"
   ]
  },
  {
   "cell_type": "code",
   "execution_count": 7,
   "metadata": {},
   "outputs": [
    {
     "data": {
      "text/html": [
       "<div>\n",
       "<style scoped>\n",
       "    .dataframe tbody tr th:only-of-type {\n",
       "        vertical-align: middle;\n",
       "    }\n",
       "\n",
       "    .dataframe tbody tr th {\n",
       "        vertical-align: top;\n",
       "    }\n",
       "\n",
       "    .dataframe thead th {\n",
       "        text-align: right;\n",
       "    }\n",
       "</style>\n",
       "<table border=\"1\" class=\"dataframe\">\n",
       "  <thead>\n",
       "    <tr style=\"text-align: right;\">\n",
       "      <th></th>\n",
       "      <th>strike</th>\n",
       "      <th>lastPrice</th>\n",
       "      <th>underlying_price</th>\n",
       "      <th>interest_rate</th>\n",
       "      <th>days_to_expiration</th>\n",
       "      <th>ticker</th>\n",
       "      <th>black_scholes</th>\n",
       "      <th>black_scholes_call_theta</th>\n",
       "      <th>black_scholes_call_rho</th>\n",
       "      <th>black_scholes_vega</th>\n",
       "      <th>black_scholes_gamma</th>\n",
       "    </tr>\n",
       "  </thead>\n",
       "  <tbody>\n",
       "    <tr>\n",
       "      <th>0</th>\n",
       "      <td>1.0</td>\n",
       "      <td>17.70</td>\n",
       "      <td>17.83</td>\n",
       "      <td>3</td>\n",
       "      <td>5</td>\n",
       "      <td>CCL</td>\n",
       "      <td>&lt;mibian.BS object at 0x12a6ed5b0&gt;</td>\n",
       "      <td>-0.000000e+00</td>\n",
       "      <td>0.000000e+00</td>\n",
       "      <td>0.000000e+00</td>\n",
       "      <td>0.000000e+00</td>\n",
       "    </tr>\n",
       "    <tr>\n",
       "      <th>1</th>\n",
       "      <td>2.0</td>\n",
       "      <td>15.30</td>\n",
       "      <td>17.83</td>\n",
       "      <td>3</td>\n",
       "      <td>5</td>\n",
       "      <td>CCL</td>\n",
       "      <td>&lt;mibian.BS object at 0x12a6d8220&gt;</td>\n",
       "      <td>-0.000000e+00</td>\n",
       "      <td>0.000000e+00</td>\n",
       "      <td>0.000000e+00</td>\n",
       "      <td>0.000000e+00</td>\n",
       "    </tr>\n",
       "    <tr>\n",
       "      <th>2</th>\n",
       "      <td>8.0</td>\n",
       "      <td>8.80</td>\n",
       "      <td>17.83</td>\n",
       "      <td>3</td>\n",
       "      <td>5</td>\n",
       "      <td>CCL</td>\n",
       "      <td>&lt;mibian.BS object at 0x12a6d8a30&gt;</td>\n",
       "      <td>-1.587548e-08</td>\n",
       "      <td>7.812171e-11</td>\n",
       "      <td>4.623353e-09</td>\n",
       "      <td>4.394593e-06</td>\n",
       "    </tr>\n",
       "    <tr>\n",
       "      <th>3</th>\n",
       "      <td>9.0</td>\n",
       "      <td>8.40</td>\n",
       "      <td>17.83</td>\n",
       "      <td>3</td>\n",
       "      <td>5</td>\n",
       "      <td>CCL</td>\n",
       "      <td>&lt;mibian.BS object at 0x12a60cee0&gt;</td>\n",
       "      <td>-4.102627e-03</td>\n",
       "      <td>6.893634e-04</td>\n",
       "      <td>1.653212e-06</td>\n",
       "      <td>1.241610e-03</td>\n",
       "    </tr>\n",
       "    <tr>\n",
       "      <th>4</th>\n",
       "      <td>9.5</td>\n",
       "      <td>8.40</td>\n",
       "      <td>17.83</td>\n",
       "      <td>3</td>\n",
       "      <td>5</td>\n",
       "      <td>CCL</td>\n",
       "      <td>&lt;mibian.BS object at 0x12a60c640&gt;</td>\n",
       "      <td>-4.097334e-03</td>\n",
       "      <td>6.893999e-04</td>\n",
       "      <td>1.849400e-13</td>\n",
       "      <td>1.246594e-10</td>\n",
       "    </tr>\n",
       "    <tr>\n",
       "      <th>5</th>\n",
       "      <td>10.0</td>\n",
       "      <td>8.98</td>\n",
       "      <td>17.83</td>\n",
       "      <td>3</td>\n",
       "      <td>5</td>\n",
       "      <td>CCL</td>\n",
       "      <td>&lt;mibian.BS object at 0x12a60cdf0&gt;</td>\n",
       "      <td>-4.380245e-03</td>\n",
       "      <td>7.370013e-04</td>\n",
       "      <td>4.786851e-11</td>\n",
       "      <td>2.912001e-08</td>\n",
       "    </tr>\n",
       "    <tr>\n",
       "      <th>6</th>\n",
       "      <td>10.5</td>\n",
       "      <td>11.90</td>\n",
       "      <td>17.83</td>\n",
       "      <td>3</td>\n",
       "      <td>5</td>\n",
       "      <td>CCL</td>\n",
       "      <td>&lt;mibian.BS object at 0x12a60ceb0&gt;</td>\n",
       "      <td>-1.078861e-12</td>\n",
       "      <td>4.113374e-15</td>\n",
       "      <td>3.163240e-13</td>\n",
       "      <td>1.745401e-10</td>\n",
       "    </tr>\n",
       "    <tr>\n",
       "      <th>7</th>\n",
       "      <td>11.0</td>\n",
       "      <td>9.90</td>\n",
       "      <td>17.83</td>\n",
       "      <td>3</td>\n",
       "      <td>5</td>\n",
       "      <td>CCL</td>\n",
       "      <td>&lt;mibian.BS object at 0x110b950d0&gt;</td>\n",
       "      <td>-4.829001e-03</td>\n",
       "      <td>8.125070e-04</td>\n",
       "      <td>1.094290e-10</td>\n",
       "      <td>5.501593e-08</td>\n",
       "    </tr>\n",
       "    <tr>\n",
       "      <th>8</th>\n",
       "      <td>11.5</td>\n",
       "      <td>8.50</td>\n",
       "      <td>17.83</td>\n",
       "      <td>3</td>\n",
       "      <td>5</td>\n",
       "      <td>CCL</td>\n",
       "      <td>&lt;mibian.BS object at 0x12a60c670&gt;</td>\n",
       "      <td>-4.146111e-03</td>\n",
       "      <td>6.976071e-04</td>\n",
       "      <td>4.121581e-64</td>\n",
       "      <td>1.895875e-61</td>\n",
       "    </tr>\n",
       "    <tr>\n",
       "      <th>9</th>\n",
       "      <td>12.0</td>\n",
       "      <td>7.26</td>\n",
       "      <td>17.83</td>\n",
       "      <td>3</td>\n",
       "      <td>5</td>\n",
       "      <td>CCL</td>\n",
       "      <td>&lt;mibian.BS object at 0x12a60c7c0&gt;</td>\n",
       "      <td>-3.541267e-03</td>\n",
       "      <td>5.958385e-04</td>\n",
       "      <td>5.731472e-171</td>\n",
       "      <td>2.421282e-168</td>\n",
       "    </tr>\n",
       "  </tbody>\n",
       "</table>\n",
       "</div>"
      ],
      "text/plain": [
       "   strike  lastPrice  underlying_price  interest_rate  days_to_expiration  \\\n",
       "0     1.0      17.70             17.83              3                   5   \n",
       "1     2.0      15.30             17.83              3                   5   \n",
       "2     8.0       8.80             17.83              3                   5   \n",
       "3     9.0       8.40             17.83              3                   5   \n",
       "4     9.5       8.40             17.83              3                   5   \n",
       "5    10.0       8.98             17.83              3                   5   \n",
       "6    10.5      11.90             17.83              3                   5   \n",
       "7    11.0       9.90             17.83              3                   5   \n",
       "8    11.5       8.50             17.83              3                   5   \n",
       "9    12.0       7.26             17.83              3                   5   \n",
       "\n",
       "  ticker                      black_scholes  black_scholes_call_theta  \\\n",
       "0    CCL  <mibian.BS object at 0x12a6ed5b0>             -0.000000e+00   \n",
       "1    CCL  <mibian.BS object at 0x12a6d8220>             -0.000000e+00   \n",
       "2    CCL  <mibian.BS object at 0x12a6d8a30>             -1.587548e-08   \n",
       "3    CCL  <mibian.BS object at 0x12a60cee0>             -4.102627e-03   \n",
       "4    CCL  <mibian.BS object at 0x12a60c640>             -4.097334e-03   \n",
       "5    CCL  <mibian.BS object at 0x12a60cdf0>             -4.380245e-03   \n",
       "6    CCL  <mibian.BS object at 0x12a60ceb0>             -1.078861e-12   \n",
       "7    CCL  <mibian.BS object at 0x110b950d0>             -4.829001e-03   \n",
       "8    CCL  <mibian.BS object at 0x12a60c670>             -4.146111e-03   \n",
       "9    CCL  <mibian.BS object at 0x12a60c7c0>             -3.541267e-03   \n",
       "\n",
       "   black_scholes_call_rho  black_scholes_vega  black_scholes_gamma  \n",
       "0            0.000000e+00        0.000000e+00         0.000000e+00  \n",
       "1            0.000000e+00        0.000000e+00         0.000000e+00  \n",
       "2            7.812171e-11        4.623353e-09         4.394593e-06  \n",
       "3            6.893634e-04        1.653212e-06         1.241610e-03  \n",
       "4            6.893999e-04        1.849400e-13         1.246594e-10  \n",
       "5            7.370013e-04        4.786851e-11         2.912001e-08  \n",
       "6            4.113374e-15        3.163240e-13         1.745401e-10  \n",
       "7            8.125070e-04        1.094290e-10         5.501593e-08  \n",
       "8            6.976071e-04        4.121581e-64         1.895875e-61  \n",
       "9            5.958385e-04       5.731472e-171        2.421282e-168  "
      ]
     },
     "execution_count": 7,
     "metadata": {},
     "output_type": "execute_result"
    }
   ],
   "source": [
    "df.head(10)"
   ]
  }
 ],
 "metadata": {
  "kernelspec": {
   "display_name": "Python 3",
   "language": "python",
   "name": "python3"
  },
  "language_info": {
   "codemirror_mode": {
    "name": "ipython",
    "version": 3
   },
   "file_extension": ".py",
   "mimetype": "text/x-python",
   "name": "python",
   "nbconvert_exporter": "python",
   "pygments_lexer": "ipython3",
   "version": "3.8.0"
  }
 },
 "nbformat": 4,
 "nbformat_minor": 4
}
