{
 "cells": [
  {
   "cell_type": "code",
   "execution_count": 1,
   "metadata": {},
   "outputs": [
    {
     "name": "stderr",
     "output_type": "stream",
     "text": [
      "/Users/jteruya/.pyenv/versions/3.8.0/lib/python3.8/site-packages/pandas/compat/__init__.py:117: UserWarning: Could not import the lzma module. Your installed Python is incomplete. Attempting to use lzma compression will result in a RuntimeError.\n",
      "  warnings.warn(msg)\n"
     ]
    }
   ],
   "source": [
    "import yfinance as yf\n",
    "import pandas as pd\n",
    "import pickle\n",
    "from sklearn.model_selection import train_test_split\n",
    "from sklearn import preprocessing\n",
    "from sklearn.ensemble import RandomForestClassifier\n",
    "from sklearn.datasets import make_classification\n",
    "from statsmodels.tsa.api import SimpleExpSmoothing"
   ]
  },
  {
   "cell_type": "markdown",
   "metadata": {},
   "source": [
    "## Set the Notebook Parameters\n",
    "- Start and End Date\n",
    "- Model File Name\n",
    "- Exponential Smoothing Value"
   ]
  },
  {
   "cell_type": "code",
   "execution_count": 2,
   "metadata": {},
   "outputs": [],
   "source": [
    "# Start and End Dates for Ticker Data\n",
    "start_date = \"2019-01-01\"\n",
    "end_date = \"2021-06-27\"\n",
    "\n",
    "# Model File\n",
    "model_file = \"models/vix_prediction_20210627.pl\"\n",
    "\n",
    "# Alpha Value (for Smoothing)\n",
    "alpha = 0.2"
   ]
  },
  {
   "cell_type": "markdown",
   "metadata": {},
   "source": [
    "## Load the Yahoo Finance Data"
   ]
  },
  {
   "cell_type": "code",
   "execution_count": 3,
   "metadata": {},
   "outputs": [
    {
     "name": "stdout",
     "output_type": "stream",
     "text": [
      "[*********************100%***********************]  1 of 1 completed\n",
      "[*********************100%***********************]  1 of 1 completed\n",
      "[*********************100%***********************]  1 of 1 completed\n",
      "[*********************100%***********************]  1 of 1 completed\n",
      "[*********************100%***********************]  1 of 1 completed\n",
      "[*********************100%***********************]  1 of 1 completed\n",
      "[*********************100%***********************]  1 of 1 completed\n",
      "[*********************100%***********************]  1 of 1 completed\n",
      "[*********************100%***********************]  1 of 1 completed\n",
      "[*********************100%***********************]  1 of 1 completed\n",
      "[*********************100%***********************]  1 of 1 completed\n",
      "[*********************100%***********************]  1 of 1 completed\n",
      "[*********************100%***********************]  1 of 1 completed\n",
      "[*********************100%***********************]  1 of 1 completed\n",
      "[*********************100%***********************]  1 of 1 completed\n",
      "[*********************100%***********************]  1 of 1 completed\n",
      "[*********************100%***********************]  1 of 1 completed\n",
      "[*********************100%***********************]  1 of 1 completed\n",
      "[*********************100%***********************]  1 of 1 completed\n",
      "[*********************100%***********************]  1 of 1 completed\n",
      "[*********************100%***********************]  1 of 1 completed\n",
      "[*********************100%***********************]  1 of 1 completed\n",
      "[*********************100%***********************]  1 of 1 completed\n",
      "[*********************100%***********************]  1 of 1 completed\n"
     ]
    }
   ],
   "source": [
    "# Helper Function\n",
    "def download_data(ticker, start, end):\n",
    "    return yf.download(ticker, start, end)\n",
    "\n",
    "# List of Indices to Retrieve Data\n",
    "#indices = [\"^VIX\", \"^GSPC\", \"^DJI\", \"^TNX\", \"DX-Y.NYB\", \"GLD\", \"TIP\", \"VNQ\"]\n",
    "indices = [\"^VIX\", \"^GSPC\", \"^IXIC\", \"^DJI\", \"^RUT\", \"CL=F\", \"GC=F\", \"SI=F\", \"^TNX\", \"BTC-USD\", \"ETH-USD\", \"DXY\", \"VNQ\", \"QQQ\", \"URA\", \"XAR\", \"AAPL\", \"EURUSD=X\", \"VEMAX\", \"ICVT\", \"XLY\", \"XLP\", \"VYM\", \"VFH\"]\n",
    "# List of lists\n",
    "indices_data = [download_data(index, start_date, end_date) for index in indices]"
   ]
  },
  {
   "cell_type": "markdown",
   "metadata": {},
   "source": [
    "## Scale the Independent Values\n",
    "This uses a percent movement"
   ]
  },
  {
   "cell_type": "code",
   "execution_count": 4,
   "metadata": {},
   "outputs": [],
   "source": [
    "# Previous Closing\n",
    "def previous_close(df):\n",
    "    df['Previous Close'] = df['Close'].shift(1)\n",
    "    return df\n",
    "\n",
    "# Percent Movement Helper Function\n",
    "def market_movement(row):\n",
    "    return (row['Close'] - row['Previous Close'])/row['Previous Close']\n",
    "\n",
    "# Get Previous Close to Account for Futures\n",
    "indices_data_prev = [previous_close(df) for df in indices_data]\n",
    "\n",
    "# Apply helper function to all index dataframes\n",
    "percent_movement = [index.apply(market_movement, axis=1) for index in indices_data_prev]"
   ]
  },
  {
   "cell_type": "markdown",
   "metadata": {},
   "source": [
    "## Exponentially Smoothing"
   ]
  },
  {
   "cell_type": "code",
   "execution_count": 5,
   "metadata": {
    "scrolled": true
   },
   "outputs": [],
   "source": [
    "#smooth_percent_movement = [SimpleExpSmoothing(series[1:], initialization_method=\"heuristic\").fit(smoothing_level=0,optimized=False).fittedvalues for series in percent_movement]"
   ]
  },
  {
   "cell_type": "markdown",
   "metadata": {},
   "source": [
    "## Transform into a DataFrame"
   ]
  },
  {
   "cell_type": "code",
   "execution_count": 6,
   "metadata": {},
   "outputs": [],
   "source": [
    "# Inital Correlation Dataframe\n",
    "#all_indices_df = pd.concat(smooth_percent_movement, axis=1)\n",
    "all_indices_df = pd.concat(percent_movement, axis=1)\n",
    "all_indices_df.columns = [index[1:] + \" Percent Movement\" for index in indices]\n",
    "original_columns = all_indices_df.columns\n",
    "all_indices_df['Day'] = all_indices_df.index\n",
    "\n",
    "# Direction Change\n",
    "all_indices_df['GSPC Same Direction'] = (all_indices_df['GSPC Percent Movement'].shift(1) > 0)^(all_indices_df['GSPC Percent Movement'] < 0)\n",
    "all_indices_df['VIX Same Direction'] = (all_indices_df['VIX Percent Movement'].shift(1) > 0)^(all_indices_df['VIX Percent Movement'] < 0)\n",
    "\n",
    "# Dependent Variable\n",
    "all_indices_df['VIX Same Direction Next Day'] = all_indices_df['VIX Same Direction'].shift(-1)"
   ]
  },
  {
   "cell_type": "code",
   "execution_count": 7,
   "metadata": {},
   "outputs": [
    {
     "data": {
      "text/plain": [
       "Index(['VIX Percent Movement', 'GSPC Percent Movement',\n",
       "       'IXIC Percent Movement', 'DJI Percent Movement', 'RUT Percent Movement',\n",
       "       'L=F Percent Movement', 'C=F Percent Movement', 'I=F Percent Movement',\n",
       "       'TNX Percent Movement', 'TC-USD Percent Movement',\n",
       "       'TH-USD Percent Movement', 'XY Percent Movement', 'NQ Percent Movement',\n",
       "       'QQ Percent Movement', 'RA Percent Movement', 'AR Percent Movement',\n",
       "       'APL Percent Movement', 'URUSD=X Percent Movement',\n",
       "       'EMAX Percent Movement', 'CVT Percent Movement', 'LY Percent Movement',\n",
       "       'LP Percent Movement', 'YM Percent Movement', 'FH Percent Movement',\n",
       "       'Day', 'GSPC Same Direction', 'VIX Same Direction',\n",
       "       'VIX Same Direction Next Day'],\n",
       "      dtype='object')"
      ]
     },
     "execution_count": 7,
     "metadata": {},
     "output_type": "execute_result"
    }
   ],
   "source": [
    "all_indices_df.columns"
   ]
  },
  {
   "cell_type": "markdown",
   "metadata": {},
   "source": [
    "## Train New Model"
   ]
  },
  {
   "cell_type": "code",
   "execution_count": 8,
   "metadata": {},
   "outputs": [
    {
     "name": "stderr",
     "output_type": "stream",
     "text": [
      "/Users/jteruya/.pyenv/versions/3.8.0/lib/python3.8/site-packages/pandas/core/generic.py:6245: SettingWithCopyWarning: \n",
      "A value is trying to be set on a copy of a slice from a DataFrame\n",
      "\n",
      "See the caveats in the documentation: https://pandas.pydata.org/pandas-docs/stable/user_guide/indexing.html#returning-a-view-versus-a-copy\n",
      "  self._update_inplace(new_data)\n"
     ]
    }
   ],
   "source": [
    "#independent_variables = ['GSPC Percent Movement', 'TNX Percent Movement', 'X-Y.NYB Percent Movement', 'LD Percent Movement', 'IP Percent Movement', 'NQ Percent Movement']\n",
    "independent_variables = ['GSPC Percent Movement', 'IXIC Percent Movement', 'DJI Percent Movement', 'RUT Percent Movement', 'L=F Percent Movement', 'C=F Percent Movement', 'I=F Percent Movement', 'TNX Percent Movement', 'TC-USD Percent Movement', 'TH-USD Percent Movement', 'XY Percent Movement', 'NQ Percent Movement', 'QQ Percent Movement', 'RA Percent Movement', 'AR Percent Movement', 'APL Percent Movement', 'URUSD=X Percent Movement', 'EMAX Percent Movement', 'CVT Percent Movement', 'LY Percent Movement', 'LP Percent Movement', 'YM Percent Movement', 'FH Percent Movement']\n",
    "\n",
    "X = all_indices_df[independent_variables]\n",
    "y = all_indices_df['VIX Same Direction Next Day']\n",
    "\n",
    "# Fill Non null values with mean\n",
    "X.fillna(X.mean(), inplace=True)\n",
    "\n",
    "# Categorical Label Encoder for Dependent Variable\n",
    "le = preprocessing.LabelEncoder()\n",
    "\n",
    "# Encode Categorical Dependent Variable\n",
    "le.fit(y)\n",
    "y = le.transform(y)\n",
    "\n",
    "# Train/Test Split\n",
    "X_train, X_test, y_train, y_test = train_test_split(X, y, test_size=0.20)"
   ]
  },
  {
   "cell_type": "markdown",
   "metadata": {},
   "source": [
    "## Score Model Accuracy with Test Split"
   ]
  },
  {
   "cell_type": "code",
   "execution_count": 9,
   "metadata": {},
   "outputs": [
    {
     "data": {
      "text/plain": [
       "0.6318681318681318"
      ]
     },
     "execution_count": 9,
     "metadata": {},
     "output_type": "execute_result"
    }
   ],
   "source": [
    "X, y = make_classification(n_samples=100, n_features=2, n_informative=2, n_redundant=0, random_state=0, shuffle=False)\n",
    "\n",
    "clf = RandomForestClassifier(max_depth=4, random_state=0)\n",
    "\n",
    "# Train the Model\n",
    "model = clf.fit(X_train, y_train)\n",
    "\n",
    "model.predict(X_test)\n",
    "model.predict_proba(X_test)\n",
    "\n",
    "# Score the Model\n",
    "model.score(X_test, y_test)"
   ]
  },
  {
   "cell_type": "markdown",
   "metadata": {},
   "source": [
    "## Save Model"
   ]
  },
  {
   "cell_type": "code",
   "execution_count": 10,
   "metadata": {},
   "outputs": [],
   "source": [
    "model_file_handler = open(model_file,'wb')\n",
    "pickle.dump(model, model_file_handler)\n",
    "model_file_handler.close()"
   ]
  }
 ],
 "metadata": {
  "kernelspec": {
   "display_name": "Python 3",
   "language": "python",
   "name": "python3"
  },
  "language_info": {
   "codemirror_mode": {
    "name": "ipython",
    "version": 3
   },
   "file_extension": ".py",
   "mimetype": "text/x-python",
   "name": "python",
   "nbconvert_exporter": "python",
   "pygments_lexer": "ipython3",
   "version": "3.8.0"
  }
 },
 "nbformat": 4,
 "nbformat_minor": 4
}
