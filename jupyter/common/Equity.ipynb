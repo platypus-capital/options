{
 "cells": [
  {
   "cell_type": "code",
   "execution_count": 1,
   "metadata": {},
   "outputs": [],
   "source": [
    "import pandas as pd\n",
    "import numpy as np\n",
    "from sklearn import preprocessing\n",
    "import yfinance as yf"
   ]
  },
  {
   "cell_type": "markdown",
   "metadata": {},
   "source": [
    "## Equity Class\n",
    "\n",
    "Class Attributes include:\n",
    "- asset\n",
    "- df\n",
    "\n",
    "Class Methods include:\n",
    "- historical_volatility (The calculation was taken from [here](https://www.investopedia.com/ask/answers/021015/how-can-you-calculate-volatility-excel.asp))\n",
    "- min_max_scale\n",
    "\n",
    "Note:\n",
    "- yfinance module can be found [here](https://libraries.io/pypi/fix-yahoo-finance)"
   ]
  },
  {
   "cell_type": "code",
   "execution_count": 2,
   "metadata": {},
   "outputs": [],
   "source": [
    "class equity():\n",
    "    \n",
    "    #Defining Underlying Asset\n",
    "    #Name: Pass the desired ticker as string all uppercase e.g. 'GOOG'\n",
    "    #Period: Set the desired study period, e.g. '30d', '2y'.\n",
    "        #Note: Use 'max' period to get the entire available historical dataset\n",
    "    \n",
    "    def __init__(self, name, period):\n",
    "        self.asset = yf.Ticker(name)\n",
    "        self.df = self.asset.history(period)\n",
    "                \n",
    "    def historical_volatility(self, lookback_in_days):\n",
    "        def _return_on_price(current_price, previous_price):\n",
    "            return (current_price/previous_price) - 1\n",
    "        self.df['Close Shift'] = self.df['Close'].shift(1)\n",
    "        self.df['Close Price Return'] = self.df.apply(lambda row : _return_on_price(row['Close'], row['Close Shift']), axis = 1)\n",
    "        self.df['Rolling Volatility'] = np.sqrt(lookback_in_days) * self.df['Close Price Return'].rolling(lookback_in_days).std() * 100\n",
    "        return self\n",
    "    \n",
    "    def min_max_scale(self, field_name):\n",
    "        min_max_scaler = preprocessing.MinMaxScaler()\n",
    "        self.df[field_name + ' Scaled'] = min_max_scaler.fit_transform(self.df[[field_name]])\n",
    "        return self"
   ]
  },
  {
   "cell_type": "code",
   "execution_count": null,
   "metadata": {},
   "outputs": [],
   "source": []
  }
 ],
 "metadata": {
  "kernelspec": {
   "display_name": "Python 3",
   "language": "python",
   "name": "python3"
  },
  "language_info": {
   "codemirror_mode": {
    "name": "ipython",
    "version": 3
   },
   "file_extension": ".py",
   "mimetype": "text/x-python",
   "name": "python",
   "nbconvert_exporter": "python",
   "pygments_lexer": "ipython3",
   "version": "3.7.6"
  }
 },
 "nbformat": 4,
 "nbformat_minor": 4
}
