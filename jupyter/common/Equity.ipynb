{
 "cells": [
  {
   "cell_type": "code",
   "execution_count": 1,
   "metadata": {},
   "outputs": [
    {
     "name": "stderr",
     "output_type": "stream",
     "text": [
      "/Users/jteruya/.pyenv/versions/3.8.0/lib/python3.8/site-packages/pandas/compat/__init__.py:117: UserWarning: Could not import the lzma module. Your installed Python is incomplete. Attempting to use lzma compression will result in a RuntimeError.\n",
      "  warnings.warn(msg)\n"
     ]
    }
   ],
   "source": [
    "import pandas as pd\n",
    "import numpy as np\n",
    "from sklearn import preprocessing"
   ]
  },
  {
   "cell_type": "markdown",
   "metadata": {},
   "source": [
    "## Equity Class\n",
    "\n",
    "Class Attributes include:\n",
    "- name\n",
    "- file\n",
    "- df\n",
    "\n",
    "Class Methods include:\n",
    "- historical_volatility (The calculation was taken from [here](https://www.investopedia.com/ask/answers/021015/how-can-you-calculate-volatility-excel.asp))\n",
    "- min_max_scale\n",
    "\n",
    "Class Helper Methods include:\n",
    "- _date_fields"
   ]
  },
  {
   "cell_type": "code",
   "execution_count": 2,
   "metadata": {},
   "outputs": [],
   "source": [
    "class equity():\n",
    "    \n",
    "    def __init__(self, name, file):\n",
    "        self.name = name\n",
    "        self.file = file\n",
    "        self.df = pd.read_csv(file)\n",
    "        self._date_field('Date')\n",
    "        self.df.set_index(['Date'], inplace=True)\n",
    "    \n",
    "    def _date_field(self, field_name):\n",
    "        self.df[field_name] = pd.to_datetime(self.df[field_name])\n",
    "        return self\n",
    "    \n",
    "    def historical_volatility(self, lookback_in_days):\n",
    "        def _return_on_price(current_price, previous_price):\n",
    "            return (current_price/previous_price) - 1\n",
    "        self.df['Adj Close Shift'] = self.df['Adj Close'].shift(1)\n",
    "        self.df['Adj Close Price Return'] = self.df.apply(lambda row : _return_on_price(row['Adj Close'], row['Adj Close Shift']), axis = 1)\n",
    "        self.df['Rolling Volatility'] = np.sqrt(lookback_in_days) * self.df['Adj Close Price Return'].rolling(lookback_in_days).std() * 100\n",
    "        return self\n",
    "    \n",
    "    def min_max_scale(self, field_name):\n",
    "        min_max_scaler = preprocessing.MinMaxScaler()\n",
    "        self.df[field_name + ' Scaled'] = min_max_scaler.fit_transform(self.df[[field_name]])\n",
    "        return self"
   ]
  }
 ],
 "metadata": {
  "kernelspec": {
   "display_name": "Python 3",
   "language": "python",
   "name": "python3"
  },
  "language_info": {
   "codemirror_mode": {
    "name": "ipython",
    "version": 3
   },
   "file_extension": ".py",
   "mimetype": "text/x-python",
   "name": "python",
   "nbconvert_exporter": "python",
   "pygments_lexer": "ipython3",
   "version": "3.8.0"
  }
 },
 "nbformat": 4,
 "nbformat_minor": 4
}
