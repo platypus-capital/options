{
 "cells": [
  {
   "cell_type": "code",
   "execution_count": 1,
   "metadata": {},
   "outputs": [
    {
     "name": "stderr",
     "output_type": "stream",
     "text": [
      "/Users/jteruya/.pyenv/versions/3.8.0/lib/python3.8/site-packages/pandas/compat/__init__.py:117: UserWarning: Could not import the lzma module. Your installed Python is incomplete. Attempting to use lzma compression will result in a RuntimeError.\n",
      "  warnings.warn(msg)\n"
     ]
    }
   ],
   "source": [
    "import yfinance as yf\n",
    "import pandas as pd\n",
    "import matplotlib.pyplot as plt\n",
    "from datetime import datetime"
   ]
  },
  {
   "cell_type": "markdown",
   "metadata": {},
   "source": [
    "## Matlab Plot Settings"
   ]
  },
  {
   "cell_type": "code",
   "execution_count": 2,
   "metadata": {},
   "outputs": [],
   "source": [
    "# Display Plot within Jupyter Notebook\n",
    "%matplotlib inline\n",
    "# Default Plot Size\n",
    "plt.rcParams['figure.figsize'] = [10, 10]"
   ]
  },
  {
   "cell_type": "markdown",
   "metadata": {},
   "source": [
    "## Index Data"
   ]
  },
  {
   "cell_type": "code",
   "execution_count": null,
   "metadata": {},
   "outputs": [
    {
     "name": "stdout",
     "output_type": "stream",
     "text": [
      "[*********************100%***********************]  1 of 1 completed\n",
      "[*********************100%***********************]  1 of 1 completed"
     ]
    }
   ],
   "source": [
    "# Helper Function\n",
    "def download_data(ticker, start, end):\n",
    "    return yf.download(ticker, start, end)\n",
    "\n",
    "# Start and End Dates for Ticker Data\n",
    "start_date = \"2018-01-01\"\n",
    "end_date = \"2020-12-30\"\n",
    "# List of Indices to Retrieve Data\n",
    "indices = [\"^VIX\", \"^GSPC\", \"^DJI\"]\n",
    "# List of lists\n",
    "indices_data = [download_data(index, start_date, end_date) for index in indices]"
   ]
  },
  {
   "cell_type": "markdown",
   "metadata": {},
   "source": [
    "## Percent Movement Per Index\n",
    "Calculate the % change for each day"
   ]
  },
  {
   "cell_type": "code",
   "execution_count": null,
   "metadata": {},
   "outputs": [],
   "source": [
    "# Percent Movement Helper Function\n",
    "def market_movement(row):\n",
    "    return (row['Close'] - row['Open'])/row['Open']\n",
    "\n",
    "# Apply helper function to all index dataframes\n",
    "percent_movement = [index.apply(market_movement, axis=1) for index in indices_data]"
   ]
  },
  {
   "cell_type": "markdown",
   "metadata": {},
   "source": [
    "## Visualize Percent Market Per Day"
   ]
  },
  {
   "cell_type": "code",
   "execution_count": null,
   "metadata": {},
   "outputs": [],
   "source": [
    "for x in range(len(indices)):\n",
    "    plt.plot(percent_movement[x], label=indices[x])\n",
    "plt.xlabel('Date')\n",
    "plt.ylabel('Percent Movement')\n",
    "plt.title('Index Percentage Change Per Day')\n",
    "plt.legend()\n",
    "plt.show()"
   ]
  },
  {
   "cell_type": "markdown",
   "metadata": {},
   "source": [
    "## Create Daily Dataframe for Correlation Calculations"
   ]
  },
  {
   "cell_type": "code",
   "execution_count": null,
   "metadata": {},
   "outputs": [],
   "source": [
    "# Inital Correlation Dataframe\n",
    "all_indices_df = pd.concat(percent_movement, axis=1)\n",
    "all_indices_df.columns = [index[1:] + \" Percent Movement\" for index in indices]\n",
    "original_columns = all_indices_df.columns\n",
    "all_indices_df['Day'] = all_indices_df.index\n",
    "\n",
    "# Add Timeshifts (by Day)\n",
    "max_shift = 4\n",
    "for shift in range(1, max_shift):\n",
    "    for column in original_columns:\n",
    "        all_indices_df[column + \" + \" + str(shift) + \" Day Shift\"] = all_indices_df[column].shift(-shift)\n",
    "\n",
    "# Direction Change\n",
    "all_indices_df['GSPC Same Direction'] = (all_indices_df['GSPC Percent Movement'].shift(1) > 0)^(all_indices_df['GSPC Percent Movement'] < 0)\n",
    "all_indices_df['VIX Same Direction'] = (all_indices_df['VIX Percent Movement'].shift(1) > 0)^(all_indices_df['VIX Percent Movement'] < 0)\n",
    "        \n",
    "# Directional Streak ID\n",
    "all_indices_df['GSPC Streak'] = 0\n",
    "all_indices_df['VIX Streak'] = 0\n",
    "\n",
    "all_indices_df['GSPC Streak'] = all_indices_df.apply(lambda x: 1 if not(x['GSPC Same Direction']) else x['GSPC Streak'], axis=1).cumsum()\n",
    "all_indices_df['VIX Streak'] = all_indices_df.apply(lambda x: 1 if not(x['VIX Same Direction']) else x['VIX Streak'], axis=1).cumsum()\n",
    "\n",
    "# Count the consecutive days of a particular streak\n",
    "all_indices_df['GSPC Streak Consecutive Days'] = all_indices_df.groupby(\"GSPC Streak\")['Day'].rank(\"dense\", ascending=True)\n",
    "all_indices_df['VIX Streak Consecutive Days'] = all_indices_df.groupby(\"VIX Streak\")['Day'].rank(\"dense\", ascending=True)\n",
    "\n",
    "# Dependent Variable\n",
    "all_indices_df['VIX Same Direction Next Day'] = all_indices_df['VIX Same Direction'].shift(-1)\n",
    "\n",
    "# Correlations on Columns\n",
    "all_indices_df.tail(10)"
   ]
  },
  {
   "cell_type": "markdown",
   "metadata": {},
   "source": [
    "## VIX Directional Model"
   ]
  },
  {
   "cell_type": "code",
   "execution_count": null,
   "metadata": {},
   "outputs": [],
   "source": [
    "from sklearn.linear_model import LogisticRegression\n",
    "from sklearn import preprocessing\n",
    "le = preprocessing.LabelEncoder()\n",
    "\n",
    "X = all_indices_df[['GSPC Streak Consecutive Days', 'VIX Streak Consecutive Days']][:-1]\n",
    "y = all_indices_df['VIX Same Direction Next Day'][:-1]\n",
    "\n",
    "\n",
    "# Encode Categorical Dependent Variable\n",
    "le.fit(y)\n",
    "y = le.transform(y)\n",
    "\n",
    "clf = LogisticRegression(random_state=0).fit(X, y)\n",
    "clf.predict([X.loc['2020-07-02'].array])\n",
    "clf.predict_proba([X.loc['2020-07-02'].array])\n",
    "#clf.score(X, y)"
   ]
  },
  {
   "cell_type": "markdown",
   "metadata": {},
   "source": [
    "## Calculate Correlations"
   ]
  },
  {
   "cell_type": "code",
   "execution_count": null,
   "metadata": {},
   "outputs": [],
   "source": [
    "# Correlations on Columns\n",
    "all_indices_df.corr(method ='pearson')"
   ]
  },
  {
   "cell_type": "markdown",
   "metadata": {},
   "source": [
    "## Monthly Correlations"
   ]
  },
  {
   "cell_type": "code",
   "execution_count": null,
   "metadata": {},
   "outputs": [],
   "source": [
    "all_indices_df = pd.concat(percent_movement, axis=1)\n",
    "all_indices_df.columns = [index[1:] + \" Percent Movement\" for index in indices]\n",
    "all_indices_df['Month'] = all_indices_df.index.year * 100 + all_indices_df.index.month\n",
    "\n",
    "months = all_indices_df['Month'].unique().tolist()\n",
    "\n",
    "max_shift = 4\n",
    "for shift in range(1, max_shift):\n",
    "    for column in original_columns:\n",
    "        all_indices_df[column + \" + \" + str(shift) + \" Day Shift\"] = all_indices_df[column].shift(-shift)\n",
    "\n",
    "all_indices_df = all_indices_df.groupby(['Month']).corr(method ='pearson')\n",
    "\n",
    "vix = []\n",
    "dji = []\n",
    "vix_1 = []\n",
    "dji_1 = []\n",
    "vix_2 = []\n",
    "dji_2 = []\n",
    "vix_3 = []\n",
    "dji_3 = []\n",
    "\n",
    "for month in months:\n",
    "    monthly_indices_df = all_indices_df.loc[month, \"GSPC Percent Movement\"]\n",
    "    vix.append(monthly_indices_df['VIX Percent Movement'])\n",
    "    dji.append(monthly_indices_df['DJI Percent Movement'])\n",
    "    vix_1.append(monthly_indices_df['VIX Percent Movement + 1 Day Shift'])\n",
    "    dji_1.append(monthly_indices_df['DJI Percent Movement + 1 Day Shift'])\n",
    "    vix_2.append(monthly_indices_df['VIX Percent Movement + 2 Day Shift'])\n",
    "    dji_2.append(monthly_indices_df['DJI Percent Movement + 2 Day Shift'])\n",
    "    vix_3.append(monthly_indices_df['VIX Percent Movement + 3 Day Shift'])\n",
    "    dji_3.append(monthly_indices_df['DJI Percent Movement + 3 Day Shift'])\n",
    "    \n",
    "monthly_data = {'MONTH': [datetime.strptime(str(month), '%Y%m') for month in months], 'VIX': vix, 'DOW': dji, 'VIX+1': vix_1, 'DJI+1': dji_1, 'VIX+2': vix_2, 'DJI+2': dji_2, 'VIX+3': vix_3, 'DJI+3': dji_3}\n",
    "monthly_df = pd.DataFrame(data = monthly_data).set_index('MONTH')\n",
    "#monthly_df.to_csv('sp500_correlation_raw.csv')\n",
    "monthly_df\n"
   ]
  },
  {
   "cell_type": "markdown",
   "metadata": {},
   "source": [
    "## Plot Monthly Correlations over Time for SP500"
   ]
  },
  {
   "cell_type": "code",
   "execution_count": null,
   "metadata": {},
   "outputs": [],
   "source": [
    "for x in range(len(monthly_df.columns)):\n",
    "    plt.plot(monthly_df[monthly_df.columns[x]], label=monthly_df.columns[x])\n",
    "plt.xlabel('Month')\n",
    "plt.ylabel('Correlation')\n",
    "plt.title('SP500 Correlation Per Month')\n",
    "plt.legend()\n",
    "plt.show()"
   ]
  }
 ],
 "metadata": {
  "kernelspec": {
   "display_name": "Python 3",
   "language": "python",
   "name": "python3"
  },
  "language_info": {
   "codemirror_mode": {
    "name": "ipython",
    "version": 3
   },
   "file_extension": ".py",
   "mimetype": "text/x-python",
   "name": "python",
   "nbconvert_exporter": "python",
   "pygments_lexer": "ipython3",
   "version": "3.8.0"
  }
 },
 "nbformat": 4,
 "nbformat_minor": 4
}
